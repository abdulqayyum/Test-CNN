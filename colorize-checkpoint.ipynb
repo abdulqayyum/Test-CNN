{
 "cells": [
  {
   "cell_type": "code",
   "execution_count": 9,
   "metadata": {
    "collapsed": false,
    "scrolled": true
   },
   "outputs": [],
   "source": [
    "from keras.models import Sequential \n",
    "from keras.layers import Dense, Activation, Convolution2D, MaxPooling2D, BatchNormalization,AtrousConvolution2D\n",
    "from IPython.display import SVG\n",
    "from keras.utils.visualize_util import model_to_dot"
   ]
  },
  {
   "cell_type": "code",
   "execution_count": 10,
   "metadata": {
    "collapsed": false
   },
   "outputs": [],
   "source": [
    "model = Sequential()\n",
    "#Conv Layer 1\n",
    "model.add(Convolution2D(64,3,3, border_mode='same',input_shape=(3,224,224)))\n",
    "model.add(Activation('relu'))\n",
    "model.add(Convolution2D(64,3,3, subsample=(2,2)))\n",
    "model.add(Activation('relu'))\n",
    "model.add(BatchNormalization(epsilon=1e-05,axis=1,momentum=0.99))"
   ]
  },
  {
   "cell_type": "code",
   "execution_count": 11,
   "metadata": {
    "collapsed": false
   },
   "outputs": [],
   "source": [
    "#Conv Layer 2\n",
    "model.add(Convolution2D(128,3,3, border_mode='same'))\n",
    "model.add(Activation('relu'))\n",
    "model.add(Convolution2D(128,3,3,subsample=(2,2)))\n",
    "model.add(Activation('relu'))\n",
    "model.add(BatchNormalization(epsilon=1e-05,momentum=0.99,weights=None,beta_init='zero',gamma_init='one',gamma_regularizer=None,beta_regularizer=None))"
   ]
  },
  {
   "cell_type": "code",
   "execution_count": null,
   "metadata": {
    "collapsed": false
   },
   "outputs": [],
   "source": []
  },
  {
   "cell_type": "code",
   "execution_count": 12,
   "metadata": {
    "collapsed": false
   },
   "outputs": [],
   "source": [
    "#Conv Layer 3\n",
    "model.add(Convolution2D(256,3,3, border_mode='same'))\n",
    "model.add(Activation('relu'))\n",
    "model.add(Convolution2D(256,3,3))\n",
    "model.add(Activation('relu'))\n",
    "model.add(Convolution2D(256,3,3,subsample=(2,2)))\n",
    "model.add(Activation('relu'))\n",
    "model.add(BatchNormalization(epsilon=1e-05,momentum=0.99,weights=None,beta_init='zero',gamma_init='one',gamma_regularizer=None,beta_regularizer=None))"
   ]
  },
  {
   "cell_type": "code",
   "execution_count": 13,
   "metadata": {
    "collapsed": false
   },
   "outputs": [],
   "source": [
    "#Conv Layer 4\n",
    "model.add(AtrousConvolution2D(512,3,3,atrous_rate=(1,1),border_mode='same',subsample=(1,1)))\n",
    "model.add(Activation('relu'))\n",
    "model.add(AtrousConvolution2D(512,3,3,atrous_rate=(1,1),border_mode='same',subsample=(1,1)))\n",
    "model.add(Activation('relu'))\n",
    "model.add(AtrousConvolution2D(512,3,3,atrous_rate=(1,1),border_mode='same',subsample=(1,1)))\n",
    "model.add(Activation('relu'))\n",
    "model.add(BatchNormalization(epsilon=1e-05,momentum=0.99,weights=None,beta_init='zero',gamma_init='one',gamma_regularizer=None,beta_regularizer=None))"
   ]
  },
  {
   "cell_type": "code",
   "execution_count": 14,
   "metadata": {
    "collapsed": false
   },
   "outputs": [
    {
     "name": "stdout",
     "output_type": "stream",
     "text": [
      "____________________________________________________________________________________________________\n",
      "Layer (type)                     Output Shape          Param #     Connected to                     \n",
      "====================================================================================================\n",
      "convolution2d_8 (Convolution2D)  (None, 3, 224, 64)    129088      convolution2d_input_2[0][0]      \n",
      "____________________________________________________________________________________________________\n",
      "activation_11 (Activation)       (None, 3, 224, 64)    0           convolution2d_8[0][0]            \n",
      "____________________________________________________________________________________________________\n",
      "convolution2d_9 (Convolution2D)  (None, 1, 111, 64)    36928       activation_11[0][0]              \n",
      "____________________________________________________________________________________________________\n",
      "activation_12 (Activation)       (None, 1, 111, 64)    0           convolution2d_9[0][0]            \n",
      "____________________________________________________________________________________________________\n",
      "batchnormalization_5 (BatchNormal(None, 1, 111, 64)    2           activation_12[0][0]              \n",
      "____________________________________________________________________________________________________\n",
      "convolution2d_10 (Convolution2D) (None, 1, 111, 128)   73856       batchnormalization_5[0][0]       \n",
      "____________________________________________________________________________________________________\n",
      "activation_13 (Activation)       (None, 1, 111, 128)   0           convolution2d_10[0][0]           \n",
      "____________________________________________________________________________________________________\n",
      "convolution2d_11 (Convolution2D) (None, 0, 55, 128)    147584      activation_13[0][0]              \n",
      "____________________________________________________________________________________________________\n",
      "activation_14 (Activation)       (None, 0, 55, 128)    0           convolution2d_11[0][0]           \n",
      "____________________________________________________________________________________________________\n",
      "batchnormalization_6 (BatchNormal(None, 0, 55, 128)    256         activation_14[0][0]              \n",
      "____________________________________________________________________________________________________\n",
      "convolution2d_12 (Convolution2D) (None, 0, 55, 256)    295168      batchnormalization_6[0][0]       \n",
      "____________________________________________________________________________________________________\n",
      "activation_15 (Activation)       (None, 0, 55, 256)    0           convolution2d_12[0][0]           \n",
      "____________________________________________________________________________________________________\n",
      "convolution2d_13 (Convolution2D) (None, -2, 53, 256)   590080      activation_15[0][0]              \n",
      "____________________________________________________________________________________________________\n",
      "activation_16 (Activation)       (None, -2, 53, 256)   0           convolution2d_13[0][0]           \n",
      "____________________________________________________________________________________________________\n",
      "convolution2d_14 (Convolution2D) (None, -2, 26, 256)   590080      activation_16[0][0]              \n",
      "____________________________________________________________________________________________________\n",
      "activation_17 (Activation)       (None, -2, 26, 256)   0           convolution2d_14[0][0]           \n",
      "____________________________________________________________________________________________________\n",
      "batchnormalization_7 (BatchNormal(None, -2, 26, 256)   512         activation_17[0][0]              \n",
      "____________________________________________________________________________________________________\n",
      "atrousconvolution2d_4 (AtrousConv(None, -2, 26, 512)   1180160     batchnormalization_7[0][0]       \n",
      "____________________________________________________________________________________________________\n",
      "activation_18 (Activation)       (None, -2, 26, 512)   0           atrousconvolution2d_4[0][0]      \n",
      "____________________________________________________________________________________________________\n",
      "atrousconvolution2d_5 (AtrousConv(None, -2, 26, 512)   2359808     activation_18[0][0]              \n",
      "____________________________________________________________________________________________________\n",
      "activation_19 (Activation)       (None, -2, 26, 512)   0           atrousconvolution2d_5[0][0]      \n",
      "____________________________________________________________________________________________________\n",
      "atrousconvolution2d_6 (AtrousConv(None, -2, 26, 512)   2359808     activation_19[0][0]              \n",
      "____________________________________________________________________________________________________\n",
      "activation_20 (Activation)       (None, -2, 26, 512)   0           atrousconvolution2d_6[0][0]      \n",
      "____________________________________________________________________________________________________\n",
      "batchnormalization_8 (BatchNormal(None, -2, 26, 512)   1024        activation_20[0][0]              \n",
      "====================================================================================================\n",
      "Total params: 7764354\n",
      "____________________________________________________________________________________________________\n"
     ]
    }
   ],
   "source": [
    "model.summary()"
   ]
  },
  {
   "cell_type": "code",
   "execution_count": 15,
   "metadata": {
    "collapsed": false
   },
   "outputs": [
    {
     "ename": "TypeError",
     "evalue": "create() got an unexpected keyword argument 'show_shapes'",
     "output_type": "error",
     "traceback": [
      "\u001b[0;31m---------------------------------------------------------------------------\u001b[0m",
      "\u001b[0;31mTypeError\u001b[0m                                 Traceback (most recent call last)",
      "\u001b[0;32m<ipython-input-15-1981019fcd15>\u001b[0m in \u001b[0;36m<module>\u001b[0;34m()\u001b[0m\n\u001b[0;32m----> 1\u001b[0;31m \u001b[0mSVG\u001b[0m\u001b[0;34m(\u001b[0m\u001b[0mmodel_to_dot\u001b[0m\u001b[0;34m(\u001b[0m\u001b[0mmodel\u001b[0m\u001b[0;34m)\u001b[0m\u001b[0;34m.\u001b[0m\u001b[0mcreate\u001b[0m\u001b[0;34m(\u001b[0m\u001b[0mprog\u001b[0m\u001b[0;34m=\u001b[0m\u001b[0;34m'dot'\u001b[0m\u001b[0;34m,\u001b[0m \u001b[0mformat\u001b[0m\u001b[0;34m=\u001b[0m\u001b[0;34m'svg'\u001b[0m\u001b[0;34m,\u001b[0m\u001b[0mshow_shapes\u001b[0m\u001b[0;34m=\u001b[0m\u001b[0;34m'true'\u001b[0m\u001b[0;34m)\u001b[0m\u001b[0;34m)\u001b[0m\u001b[0;34m\u001b[0m\u001b[0m\n\u001b[0m",
      "\u001b[0;31mTypeError\u001b[0m: create() got an unexpected keyword argument 'show_shapes'"
     ]
    }
   ],
   "source": [
    "SVG(model_to_dot(model,show_shapes='true').create(prog='dot', format='svg'))"
   ]
  }
 ],
 "metadata": {
  "kernelspec": {
   "display_name": "Python 2",
   "language": "python",
   "name": "python2"
  },
  "language_info": {
   "codemirror_mode": {
    "name": "ipython",
    "version": 2
   },
   "file_extension": ".py",
   "mimetype": "text/x-python",
   "name": "python",
   "nbconvert_exporter": "python",
   "pygments_lexer": "ipython2",
   "version": "2.7.12"
  }
 },
 "nbformat": 4,
 "nbformat_minor": 0
}
